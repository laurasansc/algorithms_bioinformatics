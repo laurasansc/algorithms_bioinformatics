{
 "cells": [
  {
   "cell_type": "code",
   "execution_count": 64,
   "metadata": {},
   "outputs": [],
   "source": [
    "import numpy as np\n",
    "from scipy.stats import pearsonr\n",
    "import matplotlib.pyplot as plt\n",
    "import pandas as pd\n",
    "import os, os.path\n",
    "from collections import defaultdict"
   ]
  },
  {
   "cell_type": "code",
   "execution_count": 2,
   "metadata": {},
   "outputs": [],
   "source": [
    "def initialize_matrix(peptide_len, alphabet):\n",
    "    init_matrix = [0]*peptide_len\n",
    "\n",
    "    for i in range(0, peptide_len):\n",
    "        row = {}\n",
    "        for letter in alphabet: \n",
    "            row[letter] = 0.0\n",
    "        init_matrix[i] = row\n",
    "        \n",
    "    return init_matrix"
   ]
  },
  {
   "cell_type": "code",
   "execution_count": 3,
   "metadata": {},
   "outputs": [],
   "source": [
    "def from_psi_blast(file_name):\n",
    "\n",
    "    f = open(file_name, \"r\")\n",
    "    nline = 0\n",
    "    for line in f:\n",
    "        sline = str.split( line )\n",
    "        if nline == 0:\n",
    "        # recover alphabet\n",
    "            alphabet = [str]*len(sline)\n",
    "            for i in range(0, len(sline)):\n",
    "                alphabet[i] = sline[i] \n",
    "            matrix = initialize_matrix(peptide_len, alphabet)\n",
    "        else:\n",
    "            i = int(sline[0])\n",
    "            for j in range(2,len(sline)):\n",
    "                matrix[i-1][alphabet[j-2]] = float(sline[j])       \n",
    "        nline+= 1\n",
    "            \n",
    "    return matrix"
   ]
  },
  {
   "cell_type": "code",
   "execution_count": 4,
   "metadata": {},
   "outputs": [],
   "source": [
    "def score_peptide(peptide, matrix):\n",
    "    acum = 0\n",
    "    for i in range(0, len(peptide)):\n",
    "        acum += matrix[i][peptide[i]]\n",
    "    return acum"
   ]
  },
  {
   "cell_type": "code",
   "execution_count": 5,
   "metadata": {},
   "outputs": [],
   "source": [
    "data_dir = \"/Users/laurasansc/github/algorithms_bioinformatics/data/\""
   ]
  },
  {
   "cell_type": "code",
   "execution_count": 82,
   "metadata": {
    "scrolled": true
   },
   "outputs": [],
   "source": [
    "# Groups of data, splitted before\n",
    "groups = [\"train\", \"test\", \"train_cluster_centroids\"]\n",
    "methods = [\"hobohm\",\"heuristics\"]\n",
    "original_df = pd.read_csv(data_dir+\"filtered_dataset.csv\")\n",
    "pcc_df = original_df[\"allele\"].unique()\n",
    "\n",
    "# Read evaluation files  (test)\n",
    "pcc_dict = defaultdict(list)\n",
    "for group in groups:\n",
    "    for method in methods:\n",
    "        if group == \"train_cluster_centroids\" and method == \"heuristics\":\n",
    "            break\n",
    "        for evaluation_file in os.listdir(data_dir+group+'/'):\n",
    "            if evaluation_file.endswith(\"_\"+group+\".csv\"): \n",
    "                allele = evaluation_file.replace(\"_\"+group,\"\")\n",
    "                evaluation_df = pd.read_csv(data_dir+group+'/'+evaluation_file)\n",
    "                # Read sequence and transform ic50\n",
    "                raw_evaluation_peptides = evaluation_df['sequence'].to_list()\n",
    "                #  x = 1 - log(IC50)/log(50000)\n",
    "                raw_evaluation_targets = (1 - (np.log(evaluation_df.ic50)/np.log(50000))).to_list()\n",
    "\n",
    "                #evaluation_peptides, evaluation_targets\n",
    "\n",
    "                peptide_len = 9\n",
    "                evaluation_peptides = []\n",
    "                evaluation_targets = []\n",
    "                for i in range(0, len(raw_evaluation_peptides)):\n",
    "                    if len(raw_evaluation_peptides[i]) == peptide_len:\n",
    "                        evaluation_peptides.append(raw_evaluation_peptides[i])\n",
    "                        evaluation_targets.append(raw_evaluation_targets[i])\n",
    "\n",
    "                # Define which PSSM file to use (file save from pep2mat)\n",
    "\n",
    "                pssm_file = data_dir + method + \"_PSSM/w_matrix_\" + allele \n",
    "\n",
    "                w_matrix = from_psi_blast(pssm_file)\n",
    "\n",
    "                evaluation_predictions = []\n",
    "                for i in range(len(evaluation_peptides)):\n",
    "                    score = score_peptide(evaluation_peptides[i], w_matrix)\n",
    "                    evaluation_predictions.append(score)\n",
    "                    #print(evaluation_peptides[i], score, evaluation_targets[i])\n",
    "\n",
    "                pcc = pearsonr(evaluation_targets, evaluation_predictions)\n",
    "                #print(allele + \"\\t\")\n",
    "                #print(\"PCC: \", pcc[0])\n",
    "                \n",
    "                \n",
    "                pcc_dict[allele[:-4]].append(round(pcc[0], 4))\n",
    "                \n",
    "                #print(pcc_dict)\n",
    "            \n",
    "                s = \"PCC: \"+ str(round(pcc[0], 4))\n",
    "\n",
    "                plt.clf()\n",
    "\n",
    "                plt.figure(figsize=(7,5))\n",
    "                plt.scatter(evaluation_targets, evaluation_predictions, color=\"gray\")\n",
    "                plt.title('Pearson Correlation ' + allele)\n",
    "                plt.ylim(0)\n",
    "                plt.xlabel('Evaluation targets transformed IC50')\n",
    "                plt.ylabel('Evaluation predictions')\n",
    "                plt.text(max(evaluation_targets)/(max(evaluation_targets)+(max(evaluation_targets)/2)), max(evaluation_predictions)/(max(evaluation_predictions)*0.40), s)\n",
    "                fname = data_dir+ \"pcc_plots/\"+ allele + \"_\"+ method + \"_\"+ group + '.png'  \n",
    "                plt.savefig(fname, format='png', dpi=100)\n",
    "\n",
    "pcc_df = pd.DataFrame.from_dict(pcc_dict, orient='index', columns=['Hobohm_train', 'Heuristics_train', 'Hobohom_test', 'Heuristics_test', 'Hobohm_train_cluster_centroids'])\n",
    "pcc_df['allele'] = pcc_df.index\n",
    "pcc_df= pcc_df[['allele','Hobohm_train', 'Heuristics_train', 'Hobohom_test', 'Heuristics_test', 'Hobohm_train_cluster_centroids']]\n",
    "\n",
    "\n",
    "pcc_df.to_csv(data_dir +\"pcc_results.csv\", index=False)"
   ]
  }
 ],
 "metadata": {
  "kernelspec": {
   "display_name": "Python 3",
   "language": "python",
   "name": "python3"
  },
  "language_info": {
   "codemirror_mode": {
    "name": "ipython",
    "version": 3
   },
   "file_extension": ".py",
   "mimetype": "text/x-python",
   "name": "python",
   "nbconvert_exporter": "python",
   "pygments_lexer": "ipython3",
   "version": "3.7.5"
  }
 },
 "nbformat": 4,
 "nbformat_minor": 4
}
