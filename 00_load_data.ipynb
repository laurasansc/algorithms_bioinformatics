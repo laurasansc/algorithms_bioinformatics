{
 "cells": [
  {
   "cell_type": "code",
   "execution_count": 1,
   "metadata": {},
   "outputs": [],
   "source": [
    "import matplotlib.pyplot as plt\n",
    "import pandas as pd\n",
    "import seaborn as sns \n",
    "from sklearn.model_selection import train_test_split"
   ]
  },
  {
   "cell_type": "code",
   "execution_count": 2,
   "metadata": {},
   "outputs": [],
   "source": [
    "data_dir=\"data/\""
   ]
  },
  {
   "cell_type": "code",
   "execution_count": 3,
   "metadata": {},
   "outputs": [],
   "source": [
    "raw_data_file = data_dir + \"raw/predictions_smm.txt\""
   ]
  },
  {
   "cell_type": "code",
   "execution_count": 4,
   "metadata": {},
   "outputs": [],
   "source": [
    "raw_data = pd.read_csv(raw_data_file, sep=\"\\t\")"
   ]
  },
  {
   "cell_type": "code",
   "execution_count": 5,
   "metadata": {},
   "outputs": [
    {
     "data": {
      "text/html": [
       "<div>\n",
       "<style scoped>\n",
       "    .dataframe tbody tr th:only-of-type {\n",
       "        vertical-align: middle;\n",
       "    }\n",
       "\n",
       "    .dataframe tbody tr th {\n",
       "        vertical-align: top;\n",
       "    }\n",
       "\n",
       "    .dataframe thead th {\n",
       "        text-align: right;\n",
       "    }\n",
       "</style>\n",
       "<table border=\"1\" class=\"dataframe\">\n",
       "  <thead>\n",
       "    <tr style=\"text-align: right;\">\n",
       "      <th></th>\n",
       "      <th>species</th>\n",
       "      <th>allele</th>\n",
       "      <th>length</th>\n",
       "      <th>cv</th>\n",
       "      <th>sequence</th>\n",
       "      <th>inequality</th>\n",
       "      <th>ic50</th>\n",
       "      <th>smm</th>\n",
       "    </tr>\n",
       "  </thead>\n",
       "  <tbody>\n",
       "    <tr>\n",
       "      <td>0</td>\n",
       "      <td>chimpanzee</td>\n",
       "      <td>Patr A*0901</td>\n",
       "      <td>11</td>\n",
       "      <td>0</td>\n",
       "      <td>ACISSEATTPV</td>\n",
       "      <td>=</td>\n",
       "      <td>221.26100</td>\n",
       "      <td>53.8</td>\n",
       "    </tr>\n",
       "    <tr>\n",
       "      <td>1</td>\n",
       "      <td>chimpanzee</td>\n",
       "      <td>Patr A*0901</td>\n",
       "      <td>11</td>\n",
       "      <td>0</td>\n",
       "      <td>AQISSEATTPV</td>\n",
       "      <td>=</td>\n",
       "      <td>41.18890</td>\n",
       "      <td>53.8</td>\n",
       "    </tr>\n",
       "    <tr>\n",
       "      <td>2</td>\n",
       "      <td>chimpanzee</td>\n",
       "      <td>Patr A*0901</td>\n",
       "      <td>11</td>\n",
       "      <td>0</td>\n",
       "      <td>ARISSEATTPV</td>\n",
       "      <td>=</td>\n",
       "      <td>621.99800</td>\n",
       "      <td>53.8</td>\n",
       "    </tr>\n",
       "    <tr>\n",
       "      <td>3</td>\n",
       "      <td>chimpanzee</td>\n",
       "      <td>Patr A*0901</td>\n",
       "      <td>11</td>\n",
       "      <td>0</td>\n",
       "      <td>AYESSEATTPV</td>\n",
       "      <td>=</td>\n",
       "      <td>421.11700</td>\n",
       "      <td>166.0</td>\n",
       "    </tr>\n",
       "    <tr>\n",
       "      <td>4</td>\n",
       "      <td>chimpanzee</td>\n",
       "      <td>Patr A*0901</td>\n",
       "      <td>11</td>\n",
       "      <td>0</td>\n",
       "      <td>AYFSSEATTPV</td>\n",
       "      <td>=</td>\n",
       "      <td>54.91940</td>\n",
       "      <td>166.0</td>\n",
       "    </tr>\n",
       "    <tr>\n",
       "      <td>...</td>\n",
       "      <td>...</td>\n",
       "      <td>...</td>\n",
       "      <td>...</td>\n",
       "      <td>...</td>\n",
       "      <td>...</td>\n",
       "      <td>...</td>\n",
       "      <td>...</td>\n",
       "      <td>...</td>\n",
       "    </tr>\n",
       "    <tr>\n",
       "      <td>48823</td>\n",
       "      <td>mouse</td>\n",
       "      <td>H-2 Ld</td>\n",
       "      <td>9</td>\n",
       "      <td>4</td>\n",
       "      <td>SLSAYIIRV</td>\n",
       "      <td>&gt;</td>\n",
       "      <td>77142.90000</td>\n",
       "      <td>42442.4</td>\n",
       "    </tr>\n",
       "    <tr>\n",
       "      <td>48824</td>\n",
       "      <td>mouse</td>\n",
       "      <td>H-2 Ld</td>\n",
       "      <td>9</td>\n",
       "      <td>4</td>\n",
       "      <td>SPTVWLSVI</td>\n",
       "      <td>=</td>\n",
       "      <td>27000.00000</td>\n",
       "      <td>5071.3</td>\n",
       "    </tr>\n",
       "    <tr>\n",
       "      <td>48825</td>\n",
       "      <td>mouse</td>\n",
       "      <td>H-2 Ld</td>\n",
       "      <td>9</td>\n",
       "      <td>4</td>\n",
       "      <td>SSYRRPVGI</td>\n",
       "      <td>&gt;</td>\n",
       "      <td>77142.90000</td>\n",
       "      <td>1717830.0</td>\n",
       "    </tr>\n",
       "    <tr>\n",
       "      <td>48826</td>\n",
       "      <td>mouse</td>\n",
       "      <td>H-2 Ld</td>\n",
       "      <td>9</td>\n",
       "      <td>4</td>\n",
       "      <td>SYIPSAEKI</td>\n",
       "      <td>=</td>\n",
       "      <td>30816.10000</td>\n",
       "      <td>30928.6</td>\n",
       "    </tr>\n",
       "    <tr>\n",
       "      <td>48827</td>\n",
       "      <td>mouse</td>\n",
       "      <td>H-2 Ld</td>\n",
       "      <td>9</td>\n",
       "      <td>4</td>\n",
       "      <td>YPHYMPTNL</td>\n",
       "      <td>=</td>\n",
       "      <td>9.64286</td>\n",
       "      <td>60.8</td>\n",
       "    </tr>\n",
       "  </tbody>\n",
       "</table>\n",
       "<p>48828 rows × 8 columns</p>\n",
       "</div>"
      ],
      "text/plain": [
       "          species       allele  length  cv     sequence inequality  \\\n",
       "0      chimpanzee  Patr A*0901      11   0  ACISSEATTPV          =   \n",
       "1      chimpanzee  Patr A*0901      11   0  AQISSEATTPV          =   \n",
       "2      chimpanzee  Patr A*0901      11   0  ARISSEATTPV          =   \n",
       "3      chimpanzee  Patr A*0901      11   0  AYESSEATTPV          =   \n",
       "4      chimpanzee  Patr A*0901      11   0  AYFSSEATTPV          =   \n",
       "...           ...          ...     ...  ..          ...        ...   \n",
       "48823       mouse       H-2 Ld       9   4    SLSAYIIRV          >   \n",
       "48824       mouse       H-2 Ld       9   4    SPTVWLSVI          =   \n",
       "48825       mouse       H-2 Ld       9   4    SSYRRPVGI          >   \n",
       "48826       mouse       H-2 Ld       9   4    SYIPSAEKI          =   \n",
       "48827       mouse       H-2 Ld       9   4    YPHYMPTNL          =   \n",
       "\n",
       "              ic50        smm  \n",
       "0        221.26100       53.8  \n",
       "1         41.18890       53.8  \n",
       "2        621.99800       53.8  \n",
       "3        421.11700      166.0  \n",
       "4         54.91940      166.0  \n",
       "...            ...        ...  \n",
       "48823  77142.90000    42442.4  \n",
       "48824  27000.00000     5071.3  \n",
       "48825  77142.90000  1717830.0  \n",
       "48826  30816.10000    30928.6  \n",
       "48827      9.64286       60.8  \n",
       "\n",
       "[48828 rows x 8 columns]"
      ]
     },
     "execution_count": 5,
     "metadata": {},
     "output_type": "execute_result"
    }
   ],
   "source": [
    "raw_data"
   ]
  },
  {
   "cell_type": "code",
   "execution_count": 6,
   "metadata": {},
   "outputs": [],
   "source": [
    "# Group by human\n",
    "human_data = raw_data[raw_data['species'].isin(['human'])]"
   ]
  },
  {
   "cell_type": "code",
   "execution_count": 7,
   "metadata": {},
   "outputs": [
    {
     "data": {
      "text/plain": [
       "35"
      ]
     },
     "execution_count": 7,
     "metadata": {},
     "output_type": "execute_result"
    }
   ],
   "source": [
    "alleles = list(human_data['allele'].unique())\n",
    "len(alleles)"
   ]
  },
  {
   "cell_type": "code",
   "execution_count": 9,
   "metadata": {},
   "outputs": [
    {
     "name": "stdout",
     "output_type": "stream",
     "text": [
      "0 HLA A*0101\n",
      "1 HLA A*0201\n",
      "2 HLA A*0202\n",
      "3 HLA A*0203\n",
      "4 HLA A*0206\n",
      "5 HLA A*0301\n",
      "6 HLA A*1101\n",
      "7 HLA A*2301\n",
      "8 HLA A*2402\n",
      "9 HLA A*2403\n",
      "10 HLA A*2601\n",
      "11 HLA A*2902\n",
      "12 HLA A*3001\n",
      "13 HLA A*3002\n",
      "14 HLA A*3101\n",
      "15 HLA A*3301\n",
      "16 HLA A*6801\n",
      "17 HLA A*6802\n",
      "18 HLA A*6901\n",
      "19 HLA B*0702\n",
      "20 HLA B*0801\n"
     ]
    }
   ],
   "source": [
    "allele_to_take = 20\n",
    "allele_no = 0\n",
    "for allele in alleles:\n",
    "    if allele_no <= 20:\n",
    "        print(allele_no, allele)\n",
    "        allele_data = human_data.loc[(human_data['allele'] == allele) &\n",
    "                                     (human_data['ic50'] < 500) &\n",
    "                                     (human_data['length'] == 9) ].sort_values(by='ic50', ascending=True)\n",
    "        train, test = train_test_split(allele_data, test_size = 0.2)\n",
    "        train = pd.DataFrame(train)\n",
    "        test = pd.DataFrame(test)\n",
    "        train.to_csv(data_dir + '/train/' + allele.replace('*','_').replace(' ','_')+'_train.csv', index=False)\n",
    "        test.to_csv(data_dir + '/test/' + allele.replace('*','_').replace(' ','_')+'_test.csv', index=False)\n",
    "    allele_no = allele_no +1"
   ]
  },
  {
   "cell_type": "code",
   "execution_count": null,
   "metadata": {},
   "outputs": [],
   "source": []
  }
 ],
 "metadata": {
  "kernelspec": {
   "display_name": "Python 3",
   "language": "python",
   "name": "python3"
  },
  "language_info": {
   "codemirror_mode": {
    "name": "ipython",
    "version": 3
   },
   "file_extension": ".py",
   "mimetype": "text/x-python",
   "name": "python",
   "nbconvert_exporter": "python",
   "pygments_lexer": "ipython3",
   "version": "3.7.4"
  }
 },
 "nbformat": 4,
 "nbformat_minor": 4
}
